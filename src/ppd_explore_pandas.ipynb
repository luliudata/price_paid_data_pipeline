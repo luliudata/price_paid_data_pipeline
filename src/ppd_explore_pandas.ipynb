{
 "cells": [
  {
   "cell_type": "code",
   "execution_count": 11,
   "id": "1e25840c",
   "metadata": {},
   "outputs": [],
   "source": [
    "# import csv\n",
    "# import json\n",
    "\n",
    "import pandas as pd\n",
    "import numpy as np"
   ]
  },
  {
   "cell_type": "code",
   "execution_count": 13,
   "id": "6b868646",
   "metadata": {},
   "outputs": [
    {
     "data": {
      "text/html": [
       "<div>\n",
       "<style scoped>\n",
       "    .dataframe tbody tr th:only-of-type {\n",
       "        vertical-align: middle;\n",
       "    }\n",
       "\n",
       "    .dataframe tbody tr th {\n",
       "        vertical-align: top;\n",
       "    }\n",
       "\n",
       "    .dataframe thead th {\n",
       "        text-align: right;\n",
       "    }\n",
       "</style>\n",
       "<table border=\"1\" class=\"dataframe\">\n",
       "  <thead>\n",
       "    <tr style=\"text-align: right;\">\n",
       "      <th></th>\n",
       "      <th>transaction_unique_id</th>\n",
       "      <th>price</th>\n",
       "      <th>date_of_transfer</th>\n",
       "      <th>postcode</th>\n",
       "      <th>property_type</th>\n",
       "      <th>old_new</th>\n",
       "      <th>duration</th>\n",
       "      <th>PAON</th>\n",
       "      <th>SAON</th>\n",
       "      <th>street</th>\n",
       "      <th>locality</th>\n",
       "      <th>town_city</th>\n",
       "      <th>district</th>\n",
       "      <th>country</th>\n",
       "      <th>PPD_category_type</th>\n",
       "      <th>record_status</th>\n",
       "    </tr>\n",
       "  </thead>\n",
       "  <tbody>\n",
       "    <tr>\n",
       "      <th>0</th>\n",
       "      <td>{C3C3F9B5-F41B-362B-E053-6B04A8C03ACC}</td>\n",
       "      <td>420000</td>\n",
       "      <td>2021-01-22 00:00</td>\n",
       "      <td>PE11 3PE</td>\n",
       "      <td>D</td>\n",
       "      <td>N</td>\n",
       "      <td>F</td>\n",
       "      <td>13</td>\n",
       "      <td>NaN</td>\n",
       "      <td>MARKET WAY</td>\n",
       "      <td>PINCHBECK</td>\n",
       "      <td>SPALDING</td>\n",
       "      <td>SOUTH HOLLAND</td>\n",
       "      <td>LINCOLNSHIRE</td>\n",
       "      <td>A</td>\n",
       "      <td>A</td>\n",
       "    </tr>\n",
       "    <tr>\n",
       "      <th>1</th>\n",
       "      <td>{C3C3F9B5-F41C-362B-E053-6B04A8C03ACC}</td>\n",
       "      <td>295000</td>\n",
       "      <td>2021-02-26 00:00</td>\n",
       "      <td>LN1 2XS</td>\n",
       "      <td>T</td>\n",
       "      <td>N</td>\n",
       "      <td>F</td>\n",
       "      <td>1</td>\n",
       "      <td>NaN</td>\n",
       "      <td>HAYES YARD</td>\n",
       "      <td>INGHAM</td>\n",
       "      <td>LINCOLN</td>\n",
       "      <td>WEST LINDSEY</td>\n",
       "      <td>LINCOLNSHIRE</td>\n",
       "      <td>A</td>\n",
       "      <td>A</td>\n",
       "    </tr>\n",
       "    <tr>\n",
       "      <th>2</th>\n",
       "      <td>{C3C3F9B5-F41D-362B-E053-6B04A8C03ACC}</td>\n",
       "      <td>96000</td>\n",
       "      <td>2021-02-11 00:00</td>\n",
       "      <td>PE12 7DS</td>\n",
       "      <td>T</td>\n",
       "      <td>N</td>\n",
       "      <td>F</td>\n",
       "      <td>8</td>\n",
       "      <td>NaN</td>\n",
       "      <td>CHANCERY LANE</td>\n",
       "      <td>HOLBEACH</td>\n",
       "      <td>SPALDING</td>\n",
       "      <td>SOUTH HOLLAND</td>\n",
       "      <td>LINCOLNSHIRE</td>\n",
       "      <td>A</td>\n",
       "      <td>A</td>\n",
       "    </tr>\n",
       "    <tr>\n",
       "      <th>3</th>\n",
       "      <td>{C3C3F9B5-F41F-362B-E053-6B04A8C03ACC}</td>\n",
       "      <td>225000</td>\n",
       "      <td>2021-02-18 00:00</td>\n",
       "      <td>LN12 2JJ</td>\n",
       "      <td>D</td>\n",
       "      <td>N</td>\n",
       "      <td>F</td>\n",
       "      <td>5</td>\n",
       "      <td>NaN</td>\n",
       "      <td>YOULGRAVE AVENUE</td>\n",
       "      <td>SUTTON ON SEA</td>\n",
       "      <td>MABLETHORPE</td>\n",
       "      <td>EAST LINDSEY</td>\n",
       "      <td>LINCOLNSHIRE</td>\n",
       "      <td>A</td>\n",
       "      <td>A</td>\n",
       "    </tr>\n",
       "    <tr>\n",
       "      <th>4</th>\n",
       "      <td>{C3C3F9B5-F420-362B-E053-6B04A8C03ACC}</td>\n",
       "      <td>110000</td>\n",
       "      <td>2021-03-12 00:00</td>\n",
       "      <td>NG33 4BY</td>\n",
       "      <td>S</td>\n",
       "      <td>N</td>\n",
       "      <td>F</td>\n",
       "      <td>17</td>\n",
       "      <td>NaN</td>\n",
       "      <td>WOOD END</td>\n",
       "      <td>ROPSLEY</td>\n",
       "      <td>GRANTHAM</td>\n",
       "      <td>SOUTH KESTEVEN</td>\n",
       "      <td>LINCOLNSHIRE</td>\n",
       "      <td>A</td>\n",
       "      <td>A</td>\n",
       "    </tr>\n",
       "  </tbody>\n",
       "</table>\n",
       "</div>"
      ],
      "text/plain": [
       "                    transaction_unique_id   price  date_of_transfer  postcode  \\\n",
       "0  {C3C3F9B5-F41B-362B-E053-6B04A8C03ACC}  420000  2021-01-22 00:00  PE11 3PE   \n",
       "1  {C3C3F9B5-F41C-362B-E053-6B04A8C03ACC}  295000  2021-02-26 00:00   LN1 2XS   \n",
       "2  {C3C3F9B5-F41D-362B-E053-6B04A8C03ACC}   96000  2021-02-11 00:00  PE12 7DS   \n",
       "3  {C3C3F9B5-F41F-362B-E053-6B04A8C03ACC}  225000  2021-02-18 00:00  LN12 2JJ   \n",
       "4  {C3C3F9B5-F420-362B-E053-6B04A8C03ACC}  110000  2021-03-12 00:00  NG33 4BY   \n",
       "\n",
       "  property_type old_new duration PAON SAON            street       locality  \\\n",
       "0             D       N        F   13  NaN        MARKET WAY      PINCHBECK   \n",
       "1             T       N        F    1  NaN        HAYES YARD         INGHAM   \n",
       "2             T       N        F    8  NaN     CHANCERY LANE       HOLBEACH   \n",
       "3             D       N        F    5  NaN  YOULGRAVE AVENUE  SUTTON ON SEA   \n",
       "4             S       N        F   17  NaN          WOOD END        ROPSLEY   \n",
       "\n",
       "     town_city        district       country PPD_category_type record_status  \n",
       "0     SPALDING   SOUTH HOLLAND  LINCOLNSHIRE                 A             A  \n",
       "1      LINCOLN    WEST LINDSEY  LINCOLNSHIRE                 A             A  \n",
       "2     SPALDING   SOUTH HOLLAND  LINCOLNSHIRE                 A             A  \n",
       "3  MABLETHORPE    EAST LINDSEY  LINCOLNSHIRE                 A             A  \n",
       "4     GRANTHAM  SOUTH KESTEVEN  LINCOLNSHIRE                 A             A  "
      ]
     },
     "execution_count": 13,
     "metadata": {},
     "output_type": "execute_result"
    }
   ],
   "source": [
    "cols = ['transaction_unique_id',\n",
    "       'price',\n",
    "       'date_of_transfer',\n",
    "       'postcode',\n",
    "       'property_type',\n",
    "       'old_new',\n",
    "       'duration',\n",
    "       'PAON',\n",
    "       'SAON',\n",
    "       'street',\n",
    "       'locality',\n",
    "       'town_city',\n",
    "       'district',\n",
    "       'country',\n",
    "       'PPD_category_type',\n",
    "       'record_status']\n",
    "\n",
    "ppd_df = pd.read_csv('pp-2021-part1.csv', names=cols)\n",
    "ppd_df.head()"
   ]
  },
  {
   "cell_type": "code",
   "execution_count": 14,
   "id": "30148d96",
   "metadata": {},
   "outputs": [
    {
     "data": {
      "text/plain": [
       "(146058, 16)"
      ]
     },
     "execution_count": 14,
     "metadata": {},
     "output_type": "execute_result"
    }
   ],
   "source": [
    "ppd_df.shape"
   ]
  },
  {
   "cell_type": "code",
   "execution_count": 15,
   "id": "b419b540",
   "metadata": {},
   "outputs": [
    {
     "data": {
      "text/plain": [
       "146058"
      ]
     },
     "execution_count": 15,
     "metadata": {},
     "output_type": "execute_result"
    }
   ],
   "source": [
    "# check duplicates - no duplicates\n",
    "len(ppd_df.drop_duplicates())"
   ]
  },
  {
   "cell_type": "code",
   "execution_count": 16,
   "id": "c514ad7b",
   "metadata": {},
   "outputs": [],
   "source": [
    "# insert makes 'property_id' the first column\n",
    "ppd_df.insert(0, 'property_id',\n",
    "          ppd_df.groupby(['postcode', \n",
    "                        'property_type',\n",
    "                        'old_new',\n",
    "                        'PAON'], sort=False).ngroup())"
   ]
  },
  {
   "cell_type": "code",
   "execution_count": 17,
   "id": "c9ba4c90",
   "metadata": {},
   "outputs": [],
   "source": [
    "# ppd_df.to_csv('test.csv', index=False) #e.g.: unique_id = 109 has three transactions"
   ]
  },
  {
   "cell_type": "code",
   "execution_count": 18,
   "id": "d9db58fd",
   "metadata": {},
   "outputs": [
    {
     "data": {
      "text/plain": [
       "(145726, 17)"
      ]
     },
     "execution_count": 18,
     "metadata": {},
     "output_type": "execute_result"
    }
   ],
   "source": [
    "# for postcode in NaN values,the corresponding values for 'property_id' is -1\n",
    "# remove those records\n",
    "ppd_df = ppd_df[ppd_df['property_id']!=-1] #332 rows\n",
    "ppd_df.shape"
   ]
  },
  {
   "cell_type": "code",
   "execution_count": 19,
   "id": "1e8591ba",
   "metadata": {
    "scrolled": false
   },
   "outputs": [
    {
     "data": {
      "text/html": [
       "<div>\n",
       "<style scoped>\n",
       "    .dataframe tbody tr th:only-of-type {\n",
       "        vertical-align: middle;\n",
       "    }\n",
       "\n",
       "    .dataframe tbody tr th {\n",
       "        vertical-align: top;\n",
       "    }\n",
       "\n",
       "    .dataframe thead th {\n",
       "        text-align: right;\n",
       "    }\n",
       "</style>\n",
       "<table border=\"1\" class=\"dataframe\">\n",
       "  <thead>\n",
       "    <tr style=\"text-align: right;\">\n",
       "      <th></th>\n",
       "      <th>property_id</th>\n",
       "      <th>transaction_unique_id</th>\n",
       "      <th>price</th>\n",
       "      <th>date_of_transfer</th>\n",
       "      <th>postcode</th>\n",
       "      <th>property_type</th>\n",
       "      <th>old_new</th>\n",
       "      <th>duration</th>\n",
       "      <th>PAON</th>\n",
       "      <th>SAON</th>\n",
       "      <th>street</th>\n",
       "      <th>locality</th>\n",
       "      <th>town_city</th>\n",
       "      <th>district</th>\n",
       "      <th>country</th>\n",
       "      <th>PPD_category_type</th>\n",
       "      <th>record_status</th>\n",
       "    </tr>\n",
       "  </thead>\n",
       "  <tbody>\n",
       "    <tr>\n",
       "      <th>109</th>\n",
       "      <td>109</td>\n",
       "      <td>{C3C3F9B5-FBA0-362B-E053-6B04A8C03ACC}</td>\n",
       "      <td>215000</td>\n",
       "      <td>2021-02-19 00:00</td>\n",
       "      <td>M1 2BL</td>\n",
       "      <td>F</td>\n",
       "      <td>N</td>\n",
       "      <td>L</td>\n",
       "      <td>40</td>\n",
       "      <td>APARTMENT 022</td>\n",
       "      <td>HILTON STREET</td>\n",
       "      <td>NaN</td>\n",
       "      <td>MANCHESTER</td>\n",
       "      <td>MANCHESTER</td>\n",
       "      <td>GREATER MANCHESTER</td>\n",
       "      <td>A</td>\n",
       "      <td>A</td>\n",
       "    </tr>\n",
       "    <tr>\n",
       "      <th>250</th>\n",
       "      <td>109</td>\n",
       "      <td>{C3C3F9B5-FBD3-362B-E053-6B04A8C03ACC}</td>\n",
       "      <td>226500</td>\n",
       "      <td>2021-02-08 00:00</td>\n",
       "      <td>M1 2BL</td>\n",
       "      <td>F</td>\n",
       "      <td>N</td>\n",
       "      <td>L</td>\n",
       "      <td>40</td>\n",
       "      <td>APARTMENT 727</td>\n",
       "      <td>HILTON STREET</td>\n",
       "      <td>NaN</td>\n",
       "      <td>MANCHESTER</td>\n",
       "      <td>MANCHESTER</td>\n",
       "      <td>GREATER MANCHESTER</td>\n",
       "      <td>A</td>\n",
       "      <td>A</td>\n",
       "    </tr>\n",
       "    <tr>\n",
       "      <th>378</th>\n",
       "      <td>109</td>\n",
       "      <td>{C3C3F9B5-FBF8-362B-E053-6B04A8C03ACC}</td>\n",
       "      <td>262000</td>\n",
       "      <td>2021-05-14 00:00</td>\n",
       "      <td>M1 2BL</td>\n",
       "      <td>F</td>\n",
       "      <td>N</td>\n",
       "      <td>L</td>\n",
       "      <td>40</td>\n",
       "      <td>APARTMENT 025</td>\n",
       "      <td>HILTON STREET</td>\n",
       "      <td>NaN</td>\n",
       "      <td>MANCHESTER</td>\n",
       "      <td>MANCHESTER</td>\n",
       "      <td>GREATER MANCHESTER</td>\n",
       "      <td>A</td>\n",
       "      <td>A</td>\n",
       "    </tr>\n",
       "  </tbody>\n",
       "</table>\n",
       "</div>"
      ],
      "text/plain": [
       "     property_id                   transaction_unique_id   price  \\\n",
       "109          109  {C3C3F9B5-FBA0-362B-E053-6B04A8C03ACC}  215000   \n",
       "250          109  {C3C3F9B5-FBD3-362B-E053-6B04A8C03ACC}  226500   \n",
       "378          109  {C3C3F9B5-FBF8-362B-E053-6B04A8C03ACC}  262000   \n",
       "\n",
       "     date_of_transfer postcode property_type old_new duration PAON  \\\n",
       "109  2021-02-19 00:00   M1 2BL             F       N        L   40   \n",
       "250  2021-02-08 00:00   M1 2BL             F       N        L   40   \n",
       "378  2021-05-14 00:00   M1 2BL             F       N        L   40   \n",
       "\n",
       "              SAON         street locality   town_city    district  \\\n",
       "109  APARTMENT 022  HILTON STREET      NaN  MANCHESTER  MANCHESTER   \n",
       "250  APARTMENT 727  HILTON STREET      NaN  MANCHESTER  MANCHESTER   \n",
       "378  APARTMENT 025  HILTON STREET      NaN  MANCHESTER  MANCHESTER   \n",
       "\n",
       "                country PPD_category_type record_status  \n",
       "109  GREATER MANCHESTER                 A             A  \n",
       "250  GREATER MANCHESTER                 A             A  \n",
       "378  GREATER MANCHESTER                 A             A  "
      ]
     },
     "execution_count": 19,
     "metadata": {},
     "output_type": "execute_result"
    }
   ],
   "source": [
    "ppd_df[ppd_df['property_id']==109]"
   ]
  },
  {
   "cell_type": "code",
   "execution_count": 20,
   "id": "6daa7573",
   "metadata": {},
   "outputs": [],
   "source": [
    "# ppd_df.to_csv('ppd_pandas.csv', index=False)"
   ]
  },
  {
   "cell_type": "code",
   "execution_count": null,
   "id": "dda44f61",
   "metadata": {},
   "outputs": [],
   "source": []
  }
 ],
 "metadata": {
  "kernelspec": {
   "display_name": "Python 3",
   "language": "python",
   "name": "python3"
  },
  "language_info": {
   "codemirror_mode": {
    "name": "ipython",
    "version": 3
   },
   "file_extension": ".py",
   "mimetype": "text/x-python",
   "name": "python",
   "nbconvert_exporter": "python",
   "pygments_lexer": "ipython3",
   "version": "3.8.8"
  }
 },
 "nbformat": 4,
 "nbformat_minor": 5
}
